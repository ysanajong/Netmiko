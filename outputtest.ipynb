{
 "cells": [
  {
   "cell_type": "markdown",
   "metadata": {},
   "source": [
    "get sys stat\n"
   ]
  },
  {
   "cell_type": "code",
   "execution_count": 3,
   "metadata": {},
   "outputs": [],
   "source": [
    "get_sys_stat =\"\"\"Version: FortiGate-200E v6.4.9,build1966,220421 (GA)\n",
    "Virus-DB: 90.03506(2022-06-22 22:20)\n",
    "Extended DB: 90.03506(2022-06-22 22:19)\n",
    "IPS-DB: 6.00741(2015-12-01 02:30)\n",
    "IPS-ETDB: 21.00343(2022-06-21 23:50)\n",
    "APP-DB: 21.00342(2022-06-21 00:49)\n",
    "INDUSTRIAL-DB: 21.00342(2022-06-21 00:49)\n",
    "IPS Malicious URL Database: 4.00389(2022-06-22 21:19)\n",
    "Serial-Number: FG200ETK19902789\n",
    "BIOS version: 05000006\n",
    "System Part-Number: P19082-03\n",
    "Log hard disk: Not available\n",
    "Hostname: BE_LLN_FW_OT_11\n",
    "Private Encryption: Disable\n",
    "Operation Mode: NAT\n",
    "Current virtual domain: root\n",
    "Max number of virtual domains: 10\n",
    "Virtual domains status: 1 in NAT mode, 0 in TP mode\n",
    "Virtual domain configuration: disable\n",
    "FIPS-CC mode: disable\n",
    "Current HA mode: a-p, primary\n",
    "Cluster uptime: 344 days, 17 hours, 12 minutes, 10 seconds\n",
    "Cluster state change time: 2022-06-07 17:00:50\n",
    "Branch point: 1966\n",
    "Release Version Information: GA\n",
    "FortiOS x86-64: Yes\n",
    "System time: Thu Jun 23 11:34:55 2022\"\"\""
   ]
  },
  {
   "cell_type": "code",
   "execution_count": 5,
   "metadata": {},
   "outputs": [
    {
     "data": {
      "text/plain": [
       "[{'hostname': 'BE_LLN_FW_OT_11',\n",
       "  'version': 'FortiGate-200E v6.4.9,build1966,220421 (GA)',\n",
       "  'signature': '',\n",
       "  'virus_db': '90.03506(2022-06-22 22:20)',\n",
       "  'extended_db': '90.03506(2022-06-22 22:19)',\n",
       "  'extreme_db': '',\n",
       "  'ips_db': '6.00741(2015-12-01 02:30)',\n",
       "  'ips_etdb': '21.00343(2022-06-21 23:50)',\n",
       "  'app_db': '21.00342(2022-06-21 00:49)',\n",
       "  'industrial_db': '21.00342(2022-06-21 00:49)',\n",
       "  'serial_number': 'FG200ETK19902789',\n",
       "  'ips_malicious_url_database': '4.00389(2022-06-22 21:19)',\n",
       "  'botnet_db': '',\n",
       "  'bios_version': '05000006',\n",
       "  'system_part_number': 'P19082-03',\n",
       "  'log_hard_disk': 'Not',\n",
       "  'private_encryption': 'Disable',\n",
       "  'operation_mode': 'NAT',\n",
       "  'current_virtual_domain': 'root',\n",
       "  'max_number_of_virtual_domains': '10',\n",
       "  'virtual_domains_status': '1 in NAT mode, 0 in TP mode',\n",
       "  'virtual_domain_configuration': 'disable',\n",
       "  'fips_cc_mode': 'disable',\n",
       "  'current_ha_mode': 'a-p, primary',\n",
       "  'cluster_uptime': '344 days, 17 hours, 12 minutes, 10 seconds',\n",
       "  'cluster_state_change_time': '2022-06-07 17:00:50',\n",
       "  'branch_point': '1966',\n",
       "  'release_version_information': 'GA',\n",
       "  'fortios_x86_64': 'Yes',\n",
       "  'system_time': 'Thu Jun 23 11:34:55 2022'}]"
      ]
     },
     "execution_count": 5,
     "metadata": {},
     "output_type": "execute_result"
    }
   ],
   "source": [
    "from ntc_templates.parse import parse_output\n",
    "\n",
    "o_parsed = parse_output(platform=\"fortinet\", command=\"get system status\", data=get_sys_stat)\n",
    "o_parsed"
   ]
  },
  {
   "cell_type": "markdown",
   "metadata": {},
   "source": []
  }
 ],
 "metadata": {
  "kernelspec": {
   "display_name": "Python 3.10.5 64-bit",
   "language": "python",
   "name": "python3"
  },
  "language_info": {
   "codemirror_mode": {
    "name": "ipython",
    "version": 3
   },
   "file_extension": ".py",
   "mimetype": "text/x-python",
   "name": "python",
   "nbconvert_exporter": "python",
   "pygments_lexer": "ipython3",
   "version": "3.10.5"
  },
  "orig_nbformat": 4,
  "vscode": {
   "interpreter": {
    "hash": "26de051ba29f2982a8de78e945f0abaf191376122a1563185a90213a26c5da77"
   }
  }
 },
 "nbformat": 4,
 "nbformat_minor": 2
}
