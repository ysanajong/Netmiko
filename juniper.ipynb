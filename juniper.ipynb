{
 "cells": [
  {
   "cell_type": "code",
   "execution_count": 1,
   "metadata": {},
   "outputs": [],
   "source": [
    "device = \"192.179\""
   ]
  },
  {
   "cell_type": "markdown",
   "metadata": {},
   "source": [
    "Show version output"
   ]
  },
  {
   "cell_type": "code",
   "execution_count": 2,
   "metadata": {},
   "outputs": [],
   "source": [
    "show_version_output = \"\"\"\n",
    "yms-noc@srx1.x.sanajong.net> show version\n",
    "Hostname: srx1.x.sanajong.net\n",
    "Model: srx1500\n",
    "Junos: 18.4R3-S5.4\n",
    "JUNOS OS Kernel 64-bit  [20200710.a76c78d_builder_stable_11]\n",
    "JUNOS OS libs [20200710.a76c78d_builder_stable_11]\n",
    "JUNOS OS runtime [20200710.a76c78d_builder_stable_11]\n",
    "JUNOS OS time zone information [20200710.a76c78d_builder_stable_11]\n",
    "JUNOS OS libs compat32 [20200710.a76c78d_builder_stable_11]\n",
    "JUNOS OS 32-bit compatibility [20200710.a76c78d_builder_stable_11]\n",
    "JUNOS py extensions [20200818.114408_builder_junos_184_r3_s5]\n",
    "JUNOS py base [20200818.114408_builder_junos_184_r3_s5]\n",
    "JUNOS OS vmguest [20200710.a76c78d_builder_stable_11]\n",
    "JUNOS OS crypto [20200710.a76c78d_builder_stable_11]\n",
    "JUNOS network stack and utilities [20200818.114408_builder_junos_184_r3_s5]\n",
    "JUNOS libs [20200818.114408_builder_junos_184_r3_s5]\n",
    "JUNOS libs compat32 [20200818.114408_builder_junos_184_r3_s5]\n",
    "JUNOS runtime [20200818.114408_builder_junos_184_r3_s5]\n",
    "JUNOS Web Management Platform Package [20200818.114408_builder_junos_184_r3_s5]\n",
    "JUNOS srx libs compat32 [20200818.114408_builder_junos_184_r3_s5]\n",
    "JUNOS srx runtime [20200818.114408_builder_junos_184_r3_s5]\n",
    "JUNOS srx platform support [20200818.114408_builder_junos_184_r3_s5]\n",
    "JUNOS common platform support [20200818.114408_builder_junos_184_r3_s5]\n",
    "JUNOS srxtvp runtime [20200818.114408_builder_junos_184_r3_s5]\n",
    "JUNOS pppoe [20200818.114408_builder_junos_184_r3_s5]\n",
    "JUNOS mtx network modules [20200818.114408_builder_junos_184_r3_s5]\n",
    "JUNOS modules [20200818.114408_builder_junos_184_r3_s5]\n",
    "JUNOS srxtvp modules [20200818.114408_builder_junos_184_r3_s5]\n",
    "JUNOS srxtvp libs [20200818.114408_builder_junos_184_r3_s5]\n",
    "JUNOS srx libs [20200818.114408_builder_junos_184_r3_s5]\n",
    "JUNOS srx Data Plane Crypto Support [20200818.114408_builder_junos_184_r3_s5]\n",
    "JUNOS daemons [20200818.114408_builder_junos_184_r3_s5]\n",
    "JUNOS srx daemons [20200818.114408_builder_junos_184_r3_s5]\n",
    "JUNOS SRX TVP AppQos Daemon [20200818.114408_builder_junos_184_r3_s5]\n",
    "JUNOS Extension Toolkit [20200818.114408_builder_junos_184_r3_s5]\n",
    "JUNOS Phone-home [20200818.114408_builder_junos_184_r3_s5]\n",
    "JUNOS J-Insight [20200818.114408_builder_junos_184_r3_s5]\n",
    "JUNOS Online Documentation [20200818.114408_builder_junos_184_r3_s5]\n",
    "JUNOS jail runtime [20200710.a76c78d_builder_stable_11]\n",
    "JUNOS FIPS mode utilities [20200818.114408_builder_junos_184_r3_s5]\n",
    "\"\"\""
   ]
  },
  {
   "cell_type": "markdown",
   "metadata": {},
   "source": [
    "Show version output processing"
   ]
  },
  {
   "cell_type": "code",
   "execution_count": 3,
   "metadata": {},
   "outputs": [
    {
     "name": "stdout",
     "output_type": "stream",
     "text": [
      "srx1.x.sanajong.net is a srx1500 running JunOS:18.4R3-S5.4\n"
     ]
    }
   ],
   "source": [
    "for line in show_version_output.splitlines():\n",
    "    if 'Hostname:' in line:\n",
    "        hostname = line.split(': ')[1]\n",
    "    if 'Model:' in line:\n",
    "        model = line.split(\": \")[1]\n",
    "    if 'Junos:' in line:\n",
    "        version = line.split(': ')[1]\n",
    "        print(f\"{hostname} is a {model} running JunOS:{version}\")"
   ]
  },
  {
   "cell_type": "markdown",
   "metadata": {},
   "source": [
    "Show enviroment command outputs"
   ]
  },
  {
   "cell_type": "code",
   "execution_count": 26,
   "metadata": {},
   "outputs": [],
   "source": [
    "env_output = \"\"\"\n",
    "srx1.x.sanajong.net> show chassis environment\n",
    "Class Item Status Measurement\n",
    "Temp Routing Engine OK 22 degrees C / 71 degrees F\n",
    "Routing Engine CPU OK 22 degrees C / 71 degrees F\n",
    "Routing Engine Absent\n",
    "Routing Engine CPU Absent\n",
    "Fans SRXSME Chassis Fan 0 OK Spinning at normal speed\n",
    "SRXSME Chassis Fan 1 OK Spinning at normal speed\n",
    "SRXSME Chassis Fan 2 OK Spinning at normal speed\n",
    "SRXSME Chassis Fan 3 OK Spinning at normal speed\n",
    "Power Power Supply 0 OK\n",
    "Power Supply 1 OK\n",
    "\"\"\"\n",
    "\n",
    "chassis_output = \"\"\"\n",
    "srx1.x.sanajong.net> show chassis routing-engine\n",
    "Routing Engine status:\n",
    "    Temperature                 33 degrees C / 91 degrees F\n",
    "    CPU temperature             33 degrees C / 91 degrees F\n",
    "    Total memory              1905 MB Max   476 MB used ( 25 percent)\n",
    "    Memory utilization          25 percent\n",
    "    5 sec CPU utilization:\n",
    "      User                       0 percent\n",
    "      Background                 0 percent\n",
    "      Kernel                     1 percent\n",
    "      Interrupt                  1 percent\n",
    "      Idle                      99 percent\n",
    "    1 min CPU utilization:\n",
    "      User                       1 percent\n",
    "      Background                 0 percent\n",
    "      Kernel                     1 percent\n",
    "      Interrupt                  0 percent\n",
    "      Idle                      98 percent\n",
    "    5 min CPU utilization:\n",
    "      User                       1 percent\n",
    "      Background                 0 percent\n",
    "      Kernel                     1 percent\n",
    "      Interrupt                  0 percent\n",
    "      Idle                      97 percent\n",
    "    15 min CPU utilization:\n",
    "      User                       1 percent\n",
    "      Background                 0 percent\n",
    "      Kernel                     1 percent\n",
    "      Interrupt                  0 percent\n",
    "      Idle                      97 percent\n",
    "    Model                          SRX Routing Engine\n",
    "    Serial ID                      BUILTIN\n",
    "    Start time                     2020-09-17 07:17:59 UTC\n",
    "    Uptime                         641 days, 4 hours, 2 minutes, 11 seconds\n",
    "    Last reboot reason             0x4000:VJUNOS reboot\n",
    "    Load averages:                 1 minute   5 minute  15 minute\n",
    "                                       0.28       0.32       0.29\n",
    "\"\"\""
   ]
  },
  {
   "cell_type": "markdown",
   "metadata": {},
   "source": [
    "Processing the show eviroment output"
   ]
  },
  {
   "cell_type": "code",
   "execution_count": 8,
   "metadata": {},
   "outputs": [],
   "source": [
    "bgp_up_output = \"\"\"\n",
    "Threading mode: BGP I/O\n",
    "Groups: 2 Peers: 6 Down peers: 0\n",
    "\"\"\"\n",
    "bgp_down_output = \"\"\"\n",
    "Threading mode: BGP I/O\n",
    "Groups: 2 Peers: 6 Down peers: 2\n",
    "Peer                     AS      InPkt     OutPkt    OutQ   Flaps Last Up/Dwn State|#Active/Received/Accepted/Damped...\n",
    "10.2.57.254           65252    1165670    1238837       0       1 9w2d 5:23:37 Idle\n",
    "  wanTrusted.inet.0: 23/224/224/0\n",
    "10.4.57.254           65252     753373     783304       0      50 35w2d 3:57:43 Idle\n",
    "  wanTrusted.inet.0: 65/224/224/0\n",
    "10.11.57.254          65252     814804     865022       0      19 6w3d 13:02:17 Establ\n",
    "  wanTrusted.inet.0: 30/226/226/0\n",
    "10.192.124.254        65252     768547     816071       0      47 36w5d 12:18:32 Establ\n",
    "  wanUntrust.inet.0: 1/70/70/0\n",
    "10.192.252.254        65252     811361     865023       0      20 6w3d 13:02:22 Establ\n",
    "  wanUntrust.inet.0: 6/74/74/0\n",
    "10.193.128.254        65252    1162649    1238837       0       1 9w2d 5:23:33 Establ\n",
    "  wanUntrust.inet.0: 4/72/72/0\n",
    "\"\"\""
   ]
  },
  {
   "cell_type": "markdown",
   "metadata": {},
   "source": [
    "Example of 0 peers down"
   ]
  },
  {
   "cell_type": "code",
   "execution_count": 11,
   "metadata": {},
   "outputs": [
    {
     "name": "stdout",
     "output_type": "stream",
     "text": [
      "All BGP peers are up on srx1.x.sanajong.net\n"
     ]
    }
   ],
   "source": [
    "for line in bgp_up_output.splitlines(): \n",
    "            if 'Down peers: 0' in line:\n",
    "                print(f'All BGP peers are up on {hostname}')\n",
    "\n",
    "            if 'Connect' in line or 'Idle' in line: \n",
    "                list_of_chunks = line.split(' ') \n",
    "                bgp_peer = list_of_chunks[0]  \n",
    "                peer_status = list_of_chunks[-1] \n",
    "                bgp_time = list_of_chunks[6]\n",
    "                print(\"BGP peer \"+bgp_peer+\" is \"+peer_status+\" for \"+bgp_time+\".\\n\")"
   ]
  },
  {
   "cell_type": "markdown",
   "metadata": {},
   "source": [
    "Example of BGP peer down"
   ]
  },
  {
   "cell_type": "code",
   "execution_count": 14,
   "metadata": {},
   "outputs": [
    {
     "name": "stdout",
     "output_type": "stream",
     "text": [
      "BGP peer 10.2.57.254 is Idle for 9w2d.\n",
      "Call Yannick on his mobile +31...\n",
      "BGP peer 10.4.57.254 is Idle for 35w2d.\n",
      "Call Yannick on his mobile +31...\n"
     ]
    }
   ],
   "source": [
    "for line in bgp_down_output.splitlines(): \n",
    "            if 'Down peers: 0' in line:\n",
    "                print(f'All BGP peers are up on {hostname}')\n",
    "\n",
    "            if 'Connect' in line or 'Idle' in line: \n",
    "                list_of_chunks = line.split(' ') \n",
    "                bgp_peer = list_of_chunks[0]  \n",
    "                peer_status = list_of_chunks[-1] \n",
    "                bgp_time = list_of_chunks[-3]\n",
    "                print(\"BGP peer \"+bgp_peer+\" is \"+peer_status+\" for \"+bgp_time+\".\\n\")"
   ]
  },
  {
   "cell_type": "code",
   "execution_count": 6,
   "metadata": {},
   "outputs": [
    {
     "name": "stdout",
     "output_type": "stream",
     "text": [
      "srx1.x.sanajong.net\n"
     ]
    }
   ],
   "source": [
    "\n",
    "print(hostname)"
   ]
  }
 ],
 "metadata": {
  "kernelspec": {
   "display_name": "Python 3.10.5 64-bit",
   "language": "python",
   "name": "python3"
  },
  "language_info": {
   "codemirror_mode": {
    "name": "ipython",
    "version": 3
   },
   "file_extension": ".py",
   "mimetype": "text/x-python",
   "name": "python",
   "nbconvert_exporter": "python",
   "pygments_lexer": "ipython3",
   "version": "3.10.5"
  },
  "orig_nbformat": 4,
  "vscode": {
   "interpreter": {
    "hash": "26de051ba29f2982a8de78e945f0abaf191376122a1563185a90213a26c5da77"
   }
  }
 },
 "nbformat": 4,
 "nbformat_minor": 2
}
