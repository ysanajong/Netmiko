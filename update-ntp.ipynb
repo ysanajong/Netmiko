{
 "cells": [
  {
   "cell_type": "markdown",
   "metadata": {},
   "source": [
    "# Update NTP\n",
    "### This script will login to Cisco IOS device and get the NTP status"
   ]
  },
  {
   "cell_type": "markdown",
   "metadata": {},
   "source": [
    "Import the modules"
   ]
  },
  {
   "cell_type": "code",
   "execution_count": null,
   "metadata": {},
   "outputs": [],
   "source": [
    "from netmiko import ConnectHandler\n",
    "from netmiko.ssh_exception import NetMikoTimeoutException\n",
    "from paramiko.ssh_exception import SSHException\n",
    "from netmiko.ssh_exception import AuthenticationException"
   ]
  },
  {
   "cell_type": "markdown",
   "metadata": {},
   "source": [
    "Setting the device details. As as test we hardcode a single device."
   ]
  },
  {
   "cell_type": "code",
   "execution_count": 1,
   "metadata": {},
   "outputs": [],
   "source": [
    "usr = \"test\"\n",
    "pwd = \"test\"\n",
    "ip_add = \"1.1.1.1\"\n",
    "\n",
    "device = {\"device_type\": \"Cisco\",\"ip\": ip_add, \"username\": usr,\"password\": pwd,}"
   ]
  },
  {
   "cell_type": "markdown",
   "metadata": {},
   "source": [
    "Login to the device via SSH and excute show ntp status command"
   ]
  },
  {
   "cell_type": "code",
   "execution_count": null,
   "metadata": {},
   "outputs": [],
   "source": [
    "action = ConnectHandler(**device) # Login to device using SSH\n",
    "\n",
    "print(\"\\nConnected to \" + device)\n",
    "\n",
    "cmd_ntp_status = action.send_command(\"show ntp status\") # Send show NTP status command\n",
    "\n",
    "print(cmd_ntp_status)\n",
    "\n",
    "action.disconnect() # disconnect from device"
   ]
  },
  {
   "cell_type": "markdown",
   "metadata": {},
   "source": [
    "Example outputs to test parsing the output"
   ]
  },
  {
   "cell_type": "code",
   "execution_count": 16,
   "metadata": {},
   "outputs": [],
   "source": [
    "status_output = \"\"\"USSP-B33S-SW01#sho ntp status\n",
    "Clock is SOMETHING_ELSE, stratum 2, reference is 10.4.2.254\n",
    "nominal freq is 250.0000 Hz, actual freq is 250.5630 Hz, precision is 2**18\n",
    "reference time is D36968F7.7E3019A9 (02:12:07.492 UTC Fri May 25 2012)\n",
    "clock offset is 417.2868 msec, root delay is 2.85 msec\n",
    "root dispersion is 673.42 msec, peer dispersion is 261.80 msec\"\"\"\n",
    "\n",
    "output_assciation = \"\"\"\n",
    "CLA_PASA#sh ntp association\n",
    "      address         ref clock     st  when  poll reach  delay  offset    disp\n",
    " ~127.127.7.1      127.127.7.1       9    50    64  377     0.0    0.00     0.0\n",
    " ~10.50.44.69      10.50.36.106      5  21231  1024   0     3.8   -4.26  16000.\n",
    "+~10.50.44.101     10.50.38.114      5    57    64    1     3.6   -4.30  15875.\n",
    "+~10.50.44.37      10.50.36.50       5     1   256  377     0.8    1.24     0.2\n",
    " ~10.50.44.133     10.50.38.170      5  12142  1024   0     3.2    1.24  16000.\n",
    "+~10.50.44.165     10.50.38.178      5    35   256  357     2.5   -4.09     0.2\n",
    "+~10.50.38.42      86.79.127.250     4     7   256  377     0.8   -0.29     0.2\n",
    "*~10.50.36.42      86.79.127.250     4   188   256  377     0.7   -0.17     0.3\n",
    "+~10.50.38.50      86.79.127.250     4    42   256  377     0.9    1.02     0.4\n",
    "+~10.50.36.50      86.79.127.250     4    20   256  377     0.7    0.87     0.5\n",
    " * master (synced), # master (unsynced), + selected, - candidate, ~ configured\n",
    "\"\"\""
   ]
  },
  {
   "cell_type": "code",
   "execution_count": 22,
   "metadata": {},
   "outputs": [
    {
     "name": "stdout",
     "output_type": "stream",
     "text": [
      "NTP ISSUES\n",
      "You have a problem\n"
     ]
    }
   ],
   "source": [
    "for l in status_output.splitlines():\n",
    "    if \"Clock is\" in l:\n",
    "        ntp_server = l.split(\" \")[-1]\n",
    "        ntp_status = l.split(\" \")[2]\n",
    "\n",
    "        if ntp_status !=\"synchronized,\":\n",
    "            print(f\"NTP ISSUES\\nYou have a problem\")\n",
    "        else:\n",
    "            print(\"NTP is fine\")"
   ]
  },
  {
   "cell_type": "code",
   "execution_count": null,
   "metadata": {},
   "outputs": [],
   "source": [
    "\n",
    "for i in output_assciation():\n",
    "    i.split()"
   ]
  }
 ],
 "metadata": {
  "kernelspec": {
   "display_name": "Python 3.10.5 64-bit",
   "language": "python",
   "name": "python3"
  },
  "language_info": {
   "codemirror_mode": {
    "name": "ipython",
    "version": 3
   },
   "file_extension": ".py",
   "mimetype": "text/x-python",
   "name": "python",
   "nbconvert_exporter": "python",
   "pygments_lexer": "ipython3",
   "version": "3.10.5"
  },
  "orig_nbformat": 4,
  "vscode": {
   "interpreter": {
    "hash": "26de051ba29f2982a8de78e945f0abaf191376122a1563185a90213a26c5da77"
   }
  }
 },
 "nbformat": 4,
 "nbformat_minor": 2
}
